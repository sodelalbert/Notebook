{
 "cells": [
  {
   "cell_type": "markdown",
   "metadata": {},
   "source": [
    "# Chapter 1.1 - Data Model"
   ]
  },
  {
   "cell_type": "markdown",
   "metadata": {
    "vscode": {
     "languageId": "markdown"
    }
   },
   "source": [
    "## Most Important Keyboard Shortcuts to Interact with Jupyter Notebook from VS Code\n",
    "\n",
    "\n",
    "### Command Mode (press `Esc` to enable)\n",
    "- `Enter`: Enter edit mode\n",
    "- `Shift + Enter`: Run the current cell and select below\n",
    "- `Ctrl + Enter`: Run the current cell\n",
    "- `Alt + Enter`: Run the current cell and insert below\n",
    "- `A`: Insert cell above\n",
    "- `B`: Insert cell below\n",
    "- `X`: Cut selected cells\n",
    "- `C`: Copy selected cells\n",
    "- `V`: Paste cells below\n",
    "- `D, D`: Delete selected cells\n",
    "- `Z`: Undo cell deletion\n",
    "- `M`: Convert cell to Markdown\n",
    "- `Y`: Convert cell to Code\n",
    "- `L`: Toggle line numbers\n",
    "- `O`: Toggle output\n",
    "- `Shift + L`: Toggle all line numbers\n",
    "- `Shift + O`: Toggle output scrolling\n",
    "\n",
    "### Edit Mode (press `Enter` to enable)\n",
    "- `Ctrl + A`: Select all\n",
    "- `Ctrl + Z`: Undo\n",
    "- `Ctrl + Shift + Z`: Redo\n",
    "- `Ctrl + Home`: Go to cell start\n",
    "- `Ctrl + End`: Go to cell end\n",
    "- `Ctrl + Left`: Move cursor word left\n",
    "- `Ctrl + Right`: Move cursor word right\n",
    "- `Ctrl + Shift + P`: Open the command palette\n",
    "\n",
    "These shortcuts will help you efficiently navigate and edit your Jupyter Notebooks within Visual Studio Code."
   ]
  },
  {
   "cell_type": "code",
   "execution_count": 18,
   "metadata": {},
   "outputs": [],
   "source": [
    "import collections\n",
    "\n",
    "Card = collections.namedtuple('Card', ['rank', 'suit'])\n",
    "\n",
    "class FrenchDeck:\n",
    "    ranks = [str(n) for n in range(2, 11)] + list('JQKA')\n",
    "    suits = 'spades diamonds clubs hearts'.split()\n",
    "\n",
    "    def __init__(self):\n",
    "        self._cards = [Card(rank, suit) for suit in self.suits\n",
    "                                        for rank in self.ranks]\n",
    "\n",
    "    def __len__(self):\n",
    "        return len(self._cards)\n",
    "\n",
    "    def __getitem__(self, position):\n",
    "        return self._cards[position]"
   ]
  },
  {
   "cell_type": "code",
   "execution_count": 26,
   "metadata": {},
   "outputs": [
    {
     "name": "stdout",
     "output_type": "stream",
     "text": [
      "Card(rank='7', suit='diamonds')\n",
      "Card(rank='9', suit='diamonds')\n"
     ]
    }
   ],
   "source": [
    "beer_card = Card('7', 'diamonds')\n",
    "print(beer_card)\n",
    "\n",
    "deck = FrenchDeck()\n",
    "deck[0]"
   ]
  },
  {
   "cell_type": "code",
   "execution_count": 29,
   "metadata": {},
   "outputs": [
    {
     "name": "stdout",
     "output_type": "stream",
     "text": [
      "Card(rank='7', suit='hearts')\n"
     ]
    }
   ],
   "source": [
    "# Pick random card - important part is to use __getitem__ method to make it work.\n",
    "\n",
    "import random\n",
    "print(random.choice(deck))"
   ]
  },
  {
   "cell_type": "code",
   "execution_count": 38,
   "metadata": {},
   "outputs": [
    {
     "name": "stdout",
     "output_type": "stream",
     "text": [
      "Card(rank='6', suit='spades')\n",
      "Card(rank='5', suit='spades')\n",
      "Card(rank='4', suit='spades')\n",
      "Card(rank='3', suit='spades')\n"
     ]
    }
   ],
   "source": [
    "for card in reversed(FrenchDeck()[1:5]):\n",
    "    print(card)"
   ]
  },
  {
   "cell_type": "code",
   "execution_count": 41,
   "metadata": {},
   "outputs": [
    {
     "name": "stdout",
     "output_type": "stream",
     "text": [
      "Card(rank='2', suit='diamonds')\n",
      "Card(rank='2', suit='hearts')\n",
      "Card(rank='2', suit='spades')\n",
      "Card(rank='3', suit='clubs')\n"
     ]
    }
   ],
   "source": [
    "# Sorting\n",
    "\n",
    "suit_values = dict(spades=3, hearts=2, diamonds=1, clubs=0)\n",
    "\n",
    "def spades_high(card):\n",
    "    rank_value = FrenchDeck.ranks.index(card.rank)\n",
    "    return rank_value * len(suit_values) + suit_values[card.suit]\n",
    "\n",
    "for card in sorted(deck, key=spades_high)[1:5]:\n",
    "    print(card)"
   ]
  },
  {
   "cell_type": "code",
   "execution_count": null,
   "metadata": {},
   "outputs": [],
   "source": []
  }
 ],
 "metadata": {
  "kernelspec": {
   "display_name": ".venv",
   "language": "python",
   "name": "python3"
  },
  "language_info": {
   "codemirror_mode": {
    "name": "ipython",
    "version": 3
   },
   "file_extension": ".py",
   "mimetype": "text/x-python",
   "name": "python",
   "nbconvert_exporter": "python",
   "pygments_lexer": "ipython3",
   "version": "3.13.1"
  }
 },
 "nbformat": 4,
 "nbformat_minor": 2
}
